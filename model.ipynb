{
 "cells": [
  {
   "cell_type": "code",
   "execution_count": 1,
   "id": "872e0666-e516-40bb-8bac-4fa3ca231fa4",
   "metadata": {},
   "outputs": [],
   "source": [
    "import langchain\n",
    "import os"
   ]
  },
  {
   "cell_type": "code",
   "execution_count": 23,
   "id": "b31c4e51-93f6-498c-b7ae-b2a8f01711be",
   "metadata": {},
   "outputs": [],
   "source": [
    "from langchain import PromptTemplate\n",
    "from langchain.chains import RetrievalQA\n",
    "from langchain_huggingface import HuggingFaceEmbeddings\n",
    "from langchain.document_loaders import PyPDFLoader, DirectoryLoader\n",
    "from langchain.text_splitter import RecursiveCharacterTextSplitter\n",
    "from langchain.llms import ctransformers\n",
    "import pinecone\n",
    "from pinecone import Pinecone as PineconeClient, ServerlessSpec\n",
    "from langchain_pinecone import PineconeVectorStore\n",
    "from langchain_openai import ChatOpenAI "
   ]
  },
  {
   "cell_type": "code",
   "execution_count": null,
   "id": "d8053743-d877-45ac-8486-fe86a709641c",
   "metadata": {},
   "outputs": [],
   "source": [
    "PINECONE_API_KEY = \"***********************\"\n",
    "PINECONE_API_ENV = \"******\""
   ]
  },
  {
   "cell_type": "code",
   "execution_count": 4,
   "id": "d09c2671-c963-4d50-af90-acde1a8f8690",
   "metadata": {},
   "outputs": [],
   "source": [
    "os.environ['PINECONE_API_KEY'] = PINECONE_API_KEY\n",
    "os.environ['PINECONE_API_ENV'] = PINECONE_API_ENV"
   ]
  },
  {
   "cell_type": "code",
   "execution_count": 5,
   "id": "8c4656e3-1442-4c28-9c1e-ba2e27aa46ce",
   "metadata": {},
   "outputs": [],
   "source": [
    "def load_pdf(data):\n",
    "    loader = DirectoryLoader(data,\n",
    "                             glob='*.pdf',\n",
    "                             loader_cls=PyPDFLoader)\n",
    "    documents = loader.load()\n",
    "    return documents"
   ]
  },
  {
   "cell_type": "code",
   "execution_count": 9,
   "id": "ff222527-905c-4551-9090-6ff100497c0a",
   "metadata": {},
   "outputs": [
    {
     "ename": "KeyboardInterrupt",
     "evalue": "",
     "output_type": "error",
     "traceback": [
      "\u001b[31m---------------------------------------------------------------------------\u001b[39m",
      "\u001b[31mKeyboardInterrupt\u001b[39m                         Traceback (most recent call last)",
      "\u001b[36mCell\u001b[39m\u001b[36m \u001b[39m\u001b[32mIn[9]\u001b[39m\u001b[32m, line 1\u001b[39m\n\u001b[32m----> \u001b[39m\u001b[32m1\u001b[39m extracted_data = \u001b[43mload_pdf\u001b[49m\u001b[43m(\u001b[49m\u001b[33;43m\"\u001b[39;49m\u001b[33;43mdata/\u001b[39;49m\u001b[33;43m\"\u001b[39;49m\u001b[43m)\u001b[49m\n",
      "\u001b[36mCell\u001b[39m\u001b[36m \u001b[39m\u001b[32mIn[5]\u001b[39m\u001b[32m, line 5\u001b[39m, in \u001b[36mload_pdf\u001b[39m\u001b[34m(data)\u001b[39m\n\u001b[32m      1\u001b[39m \u001b[38;5;28;01mdef\u001b[39;00m\u001b[38;5;250m \u001b[39m\u001b[34mload_pdf\u001b[39m(data):\n\u001b[32m      2\u001b[39m     loader = DirectoryLoader(data,\n\u001b[32m      3\u001b[39m                              glob=\u001b[33m'\u001b[39m\u001b[33m*.pdf\u001b[39m\u001b[33m'\u001b[39m,\n\u001b[32m      4\u001b[39m                              loader_cls=PyPDFLoader)\n\u001b[32m----> \u001b[39m\u001b[32m5\u001b[39m     documents = \u001b[43mloader\u001b[49m\u001b[43m.\u001b[49m\u001b[43mload\u001b[49m\u001b[43m(\u001b[49m\u001b[43m)\u001b[49m\n\u001b[32m      6\u001b[39m     \u001b[38;5;28;01mreturn\u001b[39;00m documents\n",
      "\u001b[36mFile \u001b[39m\u001b[32m~\\anaconda3\\envs\\testingopenai\\Lib\\site-packages\\langchain_community\\document_loaders\\directory.py:117\u001b[39m, in \u001b[36mDirectoryLoader.load\u001b[39m\u001b[34m(self)\u001b[39m\n\u001b[32m    115\u001b[39m \u001b[38;5;28;01mdef\u001b[39;00m\u001b[38;5;250m \u001b[39m\u001b[34mload\u001b[39m(\u001b[38;5;28mself\u001b[39m) -> List[Document]:\n\u001b[32m    116\u001b[39m \u001b[38;5;250m    \u001b[39m\u001b[33;03m\"\"\"Load documents.\"\"\"\u001b[39;00m\n\u001b[32m--> \u001b[39m\u001b[32m117\u001b[39m     \u001b[38;5;28;01mreturn\u001b[39;00m \u001b[38;5;28;43mlist\u001b[39;49m\u001b[43m(\u001b[49m\u001b[38;5;28;43mself\u001b[39;49m\u001b[43m.\u001b[49m\u001b[43mlazy_load\u001b[49m\u001b[43m(\u001b[49m\u001b[43m)\u001b[49m\u001b[43m)\u001b[49m\n",
      "\u001b[36mFile \u001b[39m\u001b[32m~\\anaconda3\\envs\\testingopenai\\Lib\\site-packages\\langchain_community\\document_loaders\\directory.py:195\u001b[39m, in \u001b[36mDirectoryLoader.lazy_load\u001b[39m\u001b[34m(self)\u001b[39m\n\u001b[32m    193\u001b[39m \u001b[38;5;28;01melse\u001b[39;00m:\n\u001b[32m    194\u001b[39m     \u001b[38;5;28;01mfor\u001b[39;00m i \u001b[38;5;129;01min\u001b[39;00m items:\n\u001b[32m--> \u001b[39m\u001b[32m195\u001b[39m         \u001b[38;5;28;01myield from\u001b[39;00m \u001b[38;5;28mself\u001b[39m._lazy_load_file(i, p, pbar)\n\u001b[32m    197\u001b[39m \u001b[38;5;28;01mif\u001b[39;00m pbar:\n\u001b[32m    198\u001b[39m     pbar.close()\n",
      "\u001b[36mFile \u001b[39m\u001b[32m~\\anaconda3\\envs\\testingopenai\\Lib\\site-packages\\langchain_community\\document_loaders\\directory.py:223\u001b[39m, in \u001b[36mDirectoryLoader._lazy_load_file\u001b[39m\u001b[34m(self, item, path, pbar)\u001b[39m\n\u001b[32m    221\u001b[39m loader = \u001b[38;5;28mself\u001b[39m.loader_cls(\u001b[38;5;28mstr\u001b[39m(item), **\u001b[38;5;28mself\u001b[39m.loader_kwargs)\n\u001b[32m    222\u001b[39m \u001b[38;5;28;01mtry\u001b[39;00m:\n\u001b[32m--> \u001b[39m\u001b[32m223\u001b[39m \u001b[43m    \u001b[49m\u001b[38;5;28;43;01mfor\u001b[39;49;00m\u001b[43m \u001b[49m\u001b[43msubdoc\u001b[49m\u001b[43m \u001b[49m\u001b[38;5;129;43;01min\u001b[39;49;00m\u001b[43m \u001b[49m\u001b[43mloader\u001b[49m\u001b[43m.\u001b[49m\u001b[43mlazy_load\u001b[49m\u001b[43m(\u001b[49m\u001b[43m)\u001b[49m\u001b[43m:\u001b[49m\n\u001b[32m    224\u001b[39m \u001b[43m        \u001b[49m\u001b[38;5;28;43;01myield\u001b[39;49;00m\u001b[43m \u001b[49m\u001b[43msubdoc\u001b[49m\n\u001b[32m    225\u001b[39m \u001b[38;5;28;01mexcept\u001b[39;00m \u001b[38;5;167;01mNotImplementedError\u001b[39;00m:\n",
      "\u001b[36mFile \u001b[39m\u001b[32m~\\anaconda3\\envs\\testingopenai\\Lib\\site-packages\\langchain_community\\document_loaders\\pdf.py:305\u001b[39m, in \u001b[36mPyPDFLoader.lazy_load\u001b[39m\u001b[34m(self)\u001b[39m\n\u001b[32m    303\u001b[39m \u001b[38;5;28;01melse\u001b[39;00m:\n\u001b[32m    304\u001b[39m     blob = Blob.from_path(\u001b[38;5;28mself\u001b[39m.file_path)\n\u001b[32m--> \u001b[39m\u001b[32m305\u001b[39m \u001b[38;5;28;01myield from\u001b[39;00m \u001b[38;5;28mself\u001b[39m.parser.lazy_parse(blob)\n",
      "\u001b[36mFile \u001b[39m\u001b[32m~\\anaconda3\\envs\\testingopenai\\Lib\\site-packages\\langchain_community\\document_loaders\\parsers\\pdf.py:408\u001b[39m, in \u001b[36mPyPDFParser.lazy_parse\u001b[39m\u001b[34m(self, blob)\u001b[39m\n\u001b[32m    398\u001b[39m all_text = _merge_text_and_extras(\n\u001b[32m    399\u001b[39m     [images_from_page], text_from_page\n\u001b[32m    400\u001b[39m ).strip()\n\u001b[32m    401\u001b[39m \u001b[38;5;28;01mif\u001b[39;00m \u001b[38;5;28mself\u001b[39m.mode == \u001b[33m\"\u001b[39m\u001b[33mpage\u001b[39m\u001b[33m\"\u001b[39m:\n\u001b[32m    402\u001b[39m     \u001b[38;5;28;01myield\u001b[39;00m Document(\n\u001b[32m    403\u001b[39m         page_content=all_text,\n\u001b[32m    404\u001b[39m         metadata=_validate_metadata(\n\u001b[32m    405\u001b[39m             doc_metadata\n\u001b[32m    406\u001b[39m             | {\n\u001b[32m    407\u001b[39m                 \u001b[33m\"\u001b[39m\u001b[33mpage\u001b[39m\u001b[33m\"\u001b[39m: page_number,\n\u001b[32m--> \u001b[39m\u001b[32m408\u001b[39m                 \u001b[33m\"\u001b[39m\u001b[33mpage_label\u001b[39m\u001b[33m\"\u001b[39m: \u001b[43mpdf_reader\u001b[49m\u001b[43m.\u001b[49m\u001b[43mpage_labels\u001b[49m[page_number],\n\u001b[32m    409\u001b[39m             }\n\u001b[32m    410\u001b[39m         ),\n\u001b[32m    411\u001b[39m     )\n\u001b[32m    412\u001b[39m \u001b[38;5;28;01melse\u001b[39;00m:\n\u001b[32m    413\u001b[39m     single_texts.append(all_text)\n",
      "\u001b[36mFile \u001b[39m\u001b[32m~\\anaconda3\\envs\\testingopenai\\Lib\\site-packages\\pypdf\\_doc_common.py:1067\u001b[39m, in \u001b[36mPdfDocCommon.page_labels\u001b[39m\u001b[34m(self)\u001b[39m\n\u001b[32m   1059\u001b[39m \u001b[38;5;129m@property\u001b[39m\n\u001b[32m   1060\u001b[39m \u001b[38;5;28;01mdef\u001b[39;00m\u001b[38;5;250m \u001b[39m\u001b[34mpage_labels\u001b[39m(\u001b[38;5;28mself\u001b[39m) -> List[\u001b[38;5;28mstr\u001b[39m]:\n\u001b[32m   1061\u001b[39m \u001b[38;5;250m    \u001b[39m\u001b[33;03m\"\"\"\u001b[39;00m\n\u001b[32m   1062\u001b[39m \u001b[33;03m    A list of labels for the pages in this document.\u001b[39;00m\n\u001b[32m   1063\u001b[39m \n\u001b[32m   1064\u001b[39m \u001b[33;03m    This property is read-only. The labels are in the order that the pages\u001b[39;00m\n\u001b[32m   1065\u001b[39m \u001b[33;03m    appear in the document.\u001b[39;00m\n\u001b[32m   1066\u001b[39m \u001b[33;03m    \"\"\"\u001b[39;00m\n\u001b[32m-> \u001b[39m\u001b[32m1067\u001b[39m     \u001b[38;5;28;01mreturn\u001b[39;00m [\u001b[43mpage_index2page_label\u001b[49m\u001b[43m(\u001b[49m\u001b[38;5;28;43mself\u001b[39;49m\u001b[43m,\u001b[49m\u001b[43m \u001b[49m\u001b[43mi\u001b[49m\u001b[43m)\u001b[49m \u001b[38;5;28;01mfor\u001b[39;00m i \u001b[38;5;129;01min\u001b[39;00m \u001b[38;5;28mrange\u001b[39m(\u001b[38;5;28mlen\u001b[39m(\u001b[38;5;28mself\u001b[39m.pages))]\n",
      "\u001b[36mFile \u001b[39m\u001b[32m~\\anaconda3\\envs\\testingopenai\\Lib\\site-packages\\pypdf\\_page_labels.py:177\u001b[39m, in \u001b[36mindex2label\u001b[39m\u001b[34m(reader, index)\u001b[39m\n\u001b[32m    175\u001b[39m \u001b[38;5;28;01mif\u001b[39;00m \u001b[33m\"\u001b[39m\u001b[33m/PageLabels\u001b[39m\u001b[33m\"\u001b[39m \u001b[38;5;129;01mnot\u001b[39;00m \u001b[38;5;129;01min\u001b[39;00m root:\n\u001b[32m    176\u001b[39m     \u001b[38;5;28;01mreturn\u001b[39;00m \u001b[38;5;28mstr\u001b[39m(index + \u001b[32m1\u001b[39m)  \u001b[38;5;66;03m# Fallback\u001b[39;00m\n\u001b[32m--> \u001b[39m\u001b[32m177\u001b[39m number_tree = cast(DictionaryObject, \u001b[43mroot\u001b[49m\u001b[43m[\u001b[49m\u001b[33;43m\"\u001b[39;49m\u001b[33;43m/PageLabels\u001b[39;49m\u001b[33;43m\"\u001b[39;49m\u001b[43m]\u001b[49m.get_object())\n\u001b[32m    178\u001b[39m \u001b[38;5;28;01mif\u001b[39;00m \u001b[33m\"\u001b[39m\u001b[33m/Nums\u001b[39m\u001b[33m\"\u001b[39m \u001b[38;5;129;01min\u001b[39;00m number_tree:\n\u001b[32m    179\u001b[39m     \u001b[38;5;28;01mreturn\u001b[39;00m get_label_from_nums(number_tree, index)\n",
      "\u001b[36mFile \u001b[39m\u001b[32m~\\anaconda3\\envs\\testingopenai\\Lib\\site-packages\\pypdf\\generic\\_data_structures.py:477\u001b[39m, in \u001b[36mDictionaryObject.__getitem__\u001b[39m\u001b[34m(self, key)\u001b[39m\n\u001b[32m    476\u001b[39m \u001b[38;5;28;01mdef\u001b[39;00m\u001b[38;5;250m \u001b[39m\u001b[34m__getitem__\u001b[39m(\u001b[38;5;28mself\u001b[39m, key: Any) -> PdfObject:\n\u001b[32m--> \u001b[39m\u001b[32m477\u001b[39m     \u001b[38;5;28;01mreturn\u001b[39;00m \u001b[38;5;28;43mdict\u001b[39;49m\u001b[43m.\u001b[49m\u001b[34;43m__getitem__\u001b[39;49m\u001b[43m(\u001b[49m\u001b[38;5;28;43mself\u001b[39;49m\u001b[43m,\u001b[49m\u001b[43m \u001b[49m\u001b[43mkey\u001b[49m\u001b[43m)\u001b[49m.get_object()\n",
      "\u001b[31mKeyboardInterrupt\u001b[39m: "
     ]
    }
   ],
   "source": [
    "extracted_data = load_pdf(\"data/\")"
   ]
  },
  {
   "cell_type": "code",
   "execution_count": 7,
   "id": "cf6ce9a3-2f8d-49f5-8a1d-12875c591407",
   "metadata": {},
   "outputs": [],
   "source": [
    "def text_split(extracted_data): \n",
    "    text_splitter = RecursiveCharacterTextSplitter(chunk_size = 500, chunk_overlap = 20)\n",
    "    text_chunks = text_splitter.split_documents(extracted_data)\n",
    "    return text_chunks"
   ]
  },
  {
   "cell_type": "code",
   "execution_count": 8,
   "id": "4d299533-9347-4550-ba90-cf96b99ccdae",
   "metadata": {},
   "outputs": [
    {
     "ename": "NameError",
     "evalue": "name 'extracted_data' is not defined",
     "output_type": "error",
     "traceback": [
      "\u001b[31m---------------------------------------------------------------------------\u001b[39m",
      "\u001b[31mNameError\u001b[39m                                 Traceback (most recent call last)",
      "\u001b[36mCell\u001b[39m\u001b[36m \u001b[39m\u001b[32mIn[8]\u001b[39m\u001b[32m, line 1\u001b[39m\n\u001b[32m----> \u001b[39m\u001b[32m1\u001b[39m text_chunks = text_split(\u001b[43mextracted_data\u001b[49m)\n\u001b[32m      2\u001b[39m \u001b[38;5;28mprint\u001b[39m(\u001b[33m\"\u001b[39m\u001b[33mlength of my chunks:\u001b[39m\u001b[33m\"\u001b[39m,\u001b[38;5;28mlen\u001b[39m(text_chunks))\n",
      "\u001b[31mNameError\u001b[39m: name 'extracted_data' is not defined"
     ]
    }
   ],
   "source": [
    "text_chunks = text_split(extracted_data)\n",
    "print(\"length of my chunks:\",len(text_chunks))"
   ]
  },
  {
   "cell_type": "code",
   "execution_count": 12,
   "id": "d17c5c83-5bcc-4921-a9ae-6195a2331fef",
   "metadata": {},
   "outputs": [],
   "source": [
    "def download_hugging_face_embeddings():\n",
    "    embeddings = HuggingFaceEmbeddings(model_name=\"sentence-transformers/all-MiniLM-L6-v2\")\n",
    "    return embeddings"
   ]
  },
  {
   "cell_type": "code",
   "execution_count": 14,
   "id": "0d389bbd-81ea-44de-a1be-7a5a4497ce0e",
   "metadata": {},
   "outputs": [],
   "source": [
    "embeddings = download_hugging_face_embeddings()"
   ]
  },
  {
   "cell_type": "code",
   "execution_count": 15,
   "id": "557cb5c9-d90f-4482-9f60-a3cda0e1fa10",
   "metadata": {},
   "outputs": [
    {
     "data": {
      "text/plain": [
       "HuggingFaceEmbeddings(model_name='sentence-transformers/all-MiniLM-L6-v2', cache_folder=None, model_kwargs={}, encode_kwargs={}, query_encode_kwargs={}, multi_process=False, show_progress=False)"
      ]
     },
     "execution_count": 15,
     "metadata": {},
     "output_type": "execute_result"
    }
   ],
   "source": [
    "embeddings"
   ]
  },
  {
   "cell_type": "code",
   "execution_count": 16,
   "id": "8f92d6cb-33d6-436f-9951-c71eb9491b5d",
   "metadata": {},
   "outputs": [
    {
     "ename": "NameError",
     "evalue": "name 'text_chunks' is not defined",
     "output_type": "error",
     "traceback": [
      "\u001b[31m---------------------------------------------------------------------------\u001b[39m",
      "\u001b[31mNameError\u001b[39m                                 Traceback (most recent call last)",
      "\u001b[36mCell\u001b[39m\u001b[36m \u001b[39m\u001b[32mIn[16]\u001b[39m\u001b[32m, line 3\u001b[39m\n\u001b[32m      1\u001b[39m index_name = \u001b[33m\"\u001b[39m\u001b[33mmedical-chatbot\u001b[39m\u001b[33m\"\u001b[39m\n\u001b[32m      2\u001b[39m docsearch = PineconeVectorStore.from_texts(\n\u001b[32m----> \u001b[39m\u001b[32m3\u001b[39m         texts=[t.page_content \u001b[38;5;28;01mfor\u001b[39;00m t \u001b[38;5;129;01min\u001b[39;00m \u001b[43mtext_chunks\u001b[49m],\n\u001b[32m      4\u001b[39m         index_name=index_name,\n\u001b[32m      5\u001b[39m         embedding=embeddings\n\u001b[32m      6\u001b[39m     )\n",
      "\u001b[31mNameError\u001b[39m: name 'text_chunks' is not defined"
     ]
    }
   ],
   "source": [
    "index_name = \"medical-chatbot\"\n",
    "docsearch = PineconeVectorStore.from_texts(\n",
    "        texts=[t.page_content for t in text_chunks],\n",
    "        index_name=index_name,\n",
    "        embedding=embeddings\n",
    "    )"
   ]
  },
  {
   "cell_type": "code",
   "execution_count": 17,
   "id": "e2a0c4f3-c4c6-4fcd-a5f1-c15f233f6870",
   "metadata": {},
   "outputs": [
    {
     "name": "stdout",
     "output_type": "stream",
     "text": [
      "Result [Document(id='66a4849a-a98a-4305-9bbd-ee8cf120cf6e', metadata={}, page_content='‘‘What’s New in: Asthma and Allergic Rhinitis.’’Pulse\\n(September 20, 2004): 50.\\nRichard Robinson\\nTeresa G. Odle\\nAllergies\\nDefinition\\nAllergies are abnormal reactions of the immune\\nsystem that occur in response to otherwise harmless\\nsubstances.\\nDescription\\nAllergies are among the most common of medical\\ndisorders. It is estimated that 60 million Americans, or\\nmore than one in every five people, suffer from some\\nform of allergy, with similar proportions throughout'), Document(id='2abd89e1-a4ad-4896-a07e-afce9d23f5cb', metadata={}, page_content='KEY TERMS\\nAllergen— A substance capable of inducing an\\nallergic response.\\nAllergic reaction— An immune system reaction to\\na substance in the environment; symptoms include\\nrash, inflammation, sneezing, itchy watery eyes,\\nand runny nose.\\nConjunctiva— The mucous membrane that covers\\nthe white part of the eyes and lines the eyelids.\\nEdema— A condition where tissues contain exces-\\nsive fluid.\\nMeibomian gland— Oil-producing glands in the\\neyelids that open near the eyelid margins.'), Document(id='f4e38b6e-2773-43e4-a7d2-0315b920474a', metadata={}, page_content='Definition\\nAllergy tests indicate a person’s allergic sensitivity\\nto commonly encountered environmental substances.\\nPurpose\\nAllergy is a reaction of the immune system.\\nNormally, the immune system responds to foreign\\nmicroorganisms and particles, like pollen or dust,\\nby producing specific proteins called antibodies that\\nare capable of binding to identifying molecules, or\\nantigens, on the foreign organisms. This reaction\\nbetween antibody and antigen sets off a series of')]\n"
     ]
    }
   ],
   "source": [
    "index_name = \"medical-chatbot\"\n",
    "docsearch = PineconeVectorStore.from_existing_index(index_name, embeddings)\n",
    "\n",
    "query = \"What are Allergies\"\n",
    "\n",
    "docs = docsearch.similarity_search(query, k=3)\n",
    "\n",
    "print(\"Result\",docs)"
   ]
  },
  {
   "cell_type": "code",
   "execution_count": 40,
   "id": "62cf9c1d-cf84-495a-a776-132ba2215c2e",
   "metadata": {},
   "outputs": [],
   "source": [
    "prompt_template = \"\"\"\n",
    "Use the following pieces of information to answer the user's question.\n",
    "If you don't know the answer, just say that you don't know, don't try to make up an answer.\n",
    "\n",
    "Context: {context}\n",
    "Question: {question}\n",
    "\n",
    "Only return the helpful answer below and nothing else.\n",
    "only return final answer.\n",
    "Helpful answer:\n",
    "\"\"\""
   ]
  },
  {
   "cell_type": "code",
   "execution_count": 41,
   "id": "b3518dde-7e7f-4e6a-a41c-b0aa96782b63",
   "metadata": {},
   "outputs": [],
   "source": [
    "PROMPT = PromptTemplate(template=prompt_template, input_variables=[\"context\", \"question\"])\n",
    "chain_type_kwargs={\"prompt\" : PROMPT}"
   ]
  },
  {
   "cell_type": "code",
   "execution_count": null,
   "id": "ffbf8d5a-6795-4c64-ab6e-d6f0ae6aecd9",
   "metadata": {},
   "outputs": [],
   "source": [
    "HF_TOKEN = \"***********************\""
   ]
  },
  {
   "cell_type": "code",
   "execution_count": 33,
   "id": "733d2074-74ee-44b6-9957-e6d07b575f47",
   "metadata": {},
   "outputs": [],
   "source": [
    "os.environ[\"HF_TOKEN\"] = HF_TOKEN\n",
    "HF_LLM_BASE_URL = \"https://router.huggingface.co/fireworks-ai/inference/v1\""
   ]
  },
  {
   "cell_type": "code",
   "execution_count": 37,
   "id": "9be92c16-b2f4-4214-802c-86e91b43154e",
   "metadata": {},
   "outputs": [],
   "source": [
    "import os\n",
    "from openai import OpenAI\n",
    "llm = ChatOpenAI(\n",
    "    model_name=\"accounts/fireworks/models/deepseek-r1-0528\", # This should match the model name expected by your HF endpoint\n",
    "    openai_api_key=HF_TOKEN, # Your HF token acts as the API key here\n",
    "    base_url=HF_LLM_BASE_URL,\n",
    "    temperature=0.8 # Lower temperature for more factual responses, good for medical assistant\n",
    ")"
   ]
  },
  {
   "cell_type": "code",
   "execution_count": 43,
   "id": "dd9f503a-ceae-45a7-88ff-a83a1653e02c",
   "metadata": {},
   "outputs": [],
   "source": [
    "qa = RetrievalQA.from_chain_type(\n",
    "    llm=llm,\n",
    "    retriever=docsearch.as_retriever(search_kwargs={'k':2}),\n",
    "    chain_type=\"stuff\", # 'stuff' is common for concatenating retrieved docs directly\n",
    "    return_source_documents=True,\n",
    "    chain_type_kwargs=chain_type_kwargs# Optional: to see which documents were retrieved\n",
    ")"
   ]
  },
  {
   "cell_type": "code",
   "execution_count": 48,
   "id": "9f4c2792-6d3d-4ddc-8c14-6b161d6eeaa7",
   "metadata": {},
   "outputs": [
    {
     "name": "stdout",
     "output_type": "stream",
     "text": [
      "Input Prompt: what are allergies\n"
     ]
    },
    {
     "name": "stdout",
     "output_type": "stream",
     "text": [
      "Response: <think>\n",
      "Hmm, the user is asking me to explain what allergies are based on a specific context provided. They mentioned an article titled \"What's New in: Asthma and Allergic Rhinitis\" from Pulse magazine in 2004 and included some text from Richard Robinson and Teresa G. Odle.\n",
      "\n",
      "Looking at the context provided, I can see a clear definition section that states: \"Allergies are abnormal reactions of the immune system that occur in response to otherwise harmless substances.\" This seems like the most direct and authoritative answer to the user's question since it comes directly from the source they referenced.\n",
      "\n",
      "The context also includes additional information about allergies being common medical disorders affecting many people, and some key terms like allergen, allergic reaction, and others. But since the user specifically asked for what allergies are, I should focus just on the definition part to keep the answer concise and relevant.\n",
      "\n",
      "I'll use the exact phrasing from the definition in the text since the user has emphasized using only the provided context. The article explicitly states that allergies are abnormal immune responses to typically harmless substances, which captures the essence of what they are from a medical perspective.\n",
      "</think>\n",
      "Allergies are abnormal reactions of the immune system that occur in response to otherwise harmless substances.\n"
     ]
    },
    {
     "name": "stdout",
     "output_type": "stream",
     "text": [
      "Input Prompt: what is acne\n"
     ]
    },
    {
     "name": "stdout",
     "output_type": "stream",
     "text": [
      "Response: <think>\n",
      "Hmm, the user is asking \"what is acne\" based on the provided context. Let me analyze this carefully.\n",
      "\n",
      "The context clearly defines acne in the second-to-last paragraph: \"Acne is a skin condition that occurs when pores or hair follicles become blocked. This blockage allows a waxy material called sebum to collect inside the pores.\" That's a straightforward definition presented as factual information from the Gale Encyclopedia of Medicine.\n",
      "\n",
      "I notice the user specifically instructed to only return the helpful answer with nothing else. The context provides the complete definition in one clear sentence. There's no need to summarize or add any commentary - just extract the definition exactly as stated. \n",
      "\n",
      "The definition covers the core aspects: it's a skin condition caused by blocked pores/hair follicles, resulting in sebum buildup. This directly answers \"what is acne\" without requiring additional interpretation. Since the answer is explicitly stated in the context, I don't need to worry about not knowing.\n",
      "</think>\n",
      "Acne is a skin condition that occurs when pores or hair follicles become blocked, allowing a waxy material called sebum to collect inside the pores.\n"
     ]
    },
    {
     "ename": "KeyboardInterrupt",
     "evalue": "Interrupted by user",
     "output_type": "error",
     "traceback": [
      "\u001b[31m---------------------------------------------------------------------------\u001b[39m",
      "\u001b[31mKeyboardInterrupt\u001b[39m                         Traceback (most recent call last)",
      "\u001b[36mCell\u001b[39m\u001b[36m \u001b[39m\u001b[32mIn[48]\u001b[39m\u001b[32m, line 2\u001b[39m\n\u001b[32m      1\u001b[39m \u001b[38;5;28;01mwhile\u001b[39;00m \u001b[38;5;28;01mTrue\u001b[39;00m:\n\u001b[32m----> \u001b[39m\u001b[32m2\u001b[39m     user_input=\u001b[38;5;28;43minput\u001b[39;49m\u001b[43m(\u001b[49m\u001b[33;43mf\u001b[39;49m\u001b[33;43m\"\u001b[39;49m\u001b[33;43mInput Prompt:\u001b[39;49m\u001b[33;43m\"\u001b[39;49m\u001b[43m)\u001b[49m\n\u001b[32m      3\u001b[39m     result=qa({\u001b[33m\"\u001b[39m\u001b[33mquery\u001b[39m\u001b[33m\"\u001b[39m:user_input})\n\u001b[32m      4\u001b[39m     \u001b[38;5;28mprint\u001b[39m(\u001b[33m\"\u001b[39m\u001b[33mResponse:\u001b[39m\u001b[33m\"\u001b[39m,result[\u001b[33m\"\u001b[39m\u001b[33mresult\u001b[39m\u001b[33m\"\u001b[39m])\n",
      "\u001b[36mFile \u001b[39m\u001b[32m~\\anaconda3\\envs\\testingopenai\\Lib\\site-packages\\ipykernel\\kernelbase.py:1282\u001b[39m, in \u001b[36mKernel.raw_input\u001b[39m\u001b[34m(self, prompt)\u001b[39m\n\u001b[32m   1280\u001b[39m     msg = \u001b[33m\"\u001b[39m\u001b[33mraw_input was called, but this frontend does not support input requests.\u001b[39m\u001b[33m\"\u001b[39m\n\u001b[32m   1281\u001b[39m     \u001b[38;5;28;01mraise\u001b[39;00m StdinNotImplementedError(msg)\n\u001b[32m-> \u001b[39m\u001b[32m1282\u001b[39m \u001b[38;5;28;01mreturn\u001b[39;00m \u001b[38;5;28;43mself\u001b[39;49m\u001b[43m.\u001b[49m\u001b[43m_input_request\u001b[49m\u001b[43m(\u001b[49m\n\u001b[32m   1283\u001b[39m \u001b[43m    \u001b[49m\u001b[38;5;28;43mstr\u001b[39;49m\u001b[43m(\u001b[49m\u001b[43mprompt\u001b[49m\u001b[43m)\u001b[49m\u001b[43m,\u001b[49m\n\u001b[32m   1284\u001b[39m \u001b[43m    \u001b[49m\u001b[38;5;28;43mself\u001b[39;49m\u001b[43m.\u001b[49m\u001b[43m_parent_ident\u001b[49m\u001b[43m[\u001b[49m\u001b[33;43m\"\u001b[39;49m\u001b[33;43mshell\u001b[39;49m\u001b[33;43m\"\u001b[39;49m\u001b[43m]\u001b[49m\u001b[43m,\u001b[49m\n\u001b[32m   1285\u001b[39m \u001b[43m    \u001b[49m\u001b[38;5;28;43mself\u001b[39;49m\u001b[43m.\u001b[49m\u001b[43mget_parent\u001b[49m\u001b[43m(\u001b[49m\u001b[33;43m\"\u001b[39;49m\u001b[33;43mshell\u001b[39;49m\u001b[33;43m\"\u001b[39;49m\u001b[43m)\u001b[49m\u001b[43m,\u001b[49m\n\u001b[32m   1286\u001b[39m \u001b[43m    \u001b[49m\u001b[43mpassword\u001b[49m\u001b[43m=\u001b[49m\u001b[38;5;28;43;01mFalse\u001b[39;49;00m\u001b[43m,\u001b[49m\n\u001b[32m   1287\u001b[39m \u001b[43m\u001b[49m\u001b[43m)\u001b[49m\n",
      "\u001b[36mFile \u001b[39m\u001b[32m~\\anaconda3\\envs\\testingopenai\\Lib\\site-packages\\ipykernel\\kernelbase.py:1325\u001b[39m, in \u001b[36mKernel._input_request\u001b[39m\u001b[34m(self, prompt, ident, parent, password)\u001b[39m\n\u001b[32m   1322\u001b[39m \u001b[38;5;28;01mexcept\u001b[39;00m \u001b[38;5;167;01mKeyboardInterrupt\u001b[39;00m:\n\u001b[32m   1323\u001b[39m     \u001b[38;5;66;03m# re-raise KeyboardInterrupt, to truncate traceback\u001b[39;00m\n\u001b[32m   1324\u001b[39m     msg = \u001b[33m\"\u001b[39m\u001b[33mInterrupted by user\u001b[39m\u001b[33m\"\u001b[39m\n\u001b[32m-> \u001b[39m\u001b[32m1325\u001b[39m     \u001b[38;5;28;01mraise\u001b[39;00m \u001b[38;5;167;01mKeyboardInterrupt\u001b[39;00m(msg) \u001b[38;5;28;01mfrom\u001b[39;00m\u001b[38;5;250m \u001b[39m\u001b[38;5;28;01mNone\u001b[39;00m\n\u001b[32m   1326\u001b[39m \u001b[38;5;28;01mexcept\u001b[39;00m \u001b[38;5;167;01mException\u001b[39;00m:\n\u001b[32m   1327\u001b[39m     \u001b[38;5;28mself\u001b[39m.log.warning(\u001b[33m\"\u001b[39m\u001b[33mInvalid Message:\u001b[39m\u001b[33m\"\u001b[39m, exc_info=\u001b[38;5;28;01mTrue\u001b[39;00m)\n",
      "\u001b[31mKeyboardInterrupt\u001b[39m: Interrupted by user"
     ]
    }
   ],
   "source": [
    "while True:\n",
    "    user_input=input(f\"Input Prompt:\")\n",
    "    result=qa({\"query\":user_input})\n",
    "    print(\"Response:\",result[\"result\"])"
   ]
  },
  {
   "cell_type": "code",
   "execution_count": null,
   "id": "83877133-a372-4107-94cd-348b59de002a",
   "metadata": {},
   "outputs": [],
   "source": []
  }
 ],
 "metadata": {
  "kernelspec": {
   "display_name": "Python 3 (ipykernel)",
   "language": "python",
   "name": "python3"
  },
  "language_info": {
   "codemirror_mode": {
    "name": "ipython",
    "version": 3
   },
   "file_extension": ".py",
   "mimetype": "text/x-python",
   "name": "python",
   "nbconvert_exporter": "python",
   "pygments_lexer": "ipython3",
   "version": "3.12.3"
  }
 },
 "nbformat": 4,
 "nbformat_minor": 5
}
